{
 "cells": [
  {
   "cell_type": "code",
   "execution_count": 1,
   "metadata": {},
   "outputs": [
    {
     "name": "stderr",
     "output_type": "stream",
     "text": [
      "C:\\Users\\ys16219\\AppData\\Local\\Continuum\\anaconda3\\lib\\site-packages\\gensim\\utils.py:862: UserWarning: detected Windows; aliasing chunkize to chunkize_serial\n",
      "  warnings.warn(\"detected Windows; aliasing chunkize to chunkize_serial\")\n"
     ]
    }
   ],
   "source": [
    "import random\n",
    "import ipywidgets as widgets\n",
    "from IPython.display import display\n",
    "from IPython.display import clear_output\n",
    "from nltk.stem.snowball import SnowballStemmer\n",
    "from gensim.models import KeyedVectors\n",
    "from nltk.stem import WordNetLemmatizer\n",
    "\n",
    "class game:\n",
    "    \n",
    "    def __init__(self, path):\n",
    "        \n",
    "        self.model = KeyedVectors.load_word2vec_format(path, unicode_errors = 'replace', binary = 'True')\n",
    "        self.first = None\n",
    "        self.last = None\n",
    "        self.bonus_words = None\n",
    "        self.path = []\n",
    "        self.display_word = None\n",
    "        self.size = len(self.model.index2word)\n",
    "        \n",
    "    def start_game(self):\n",
    "    \n",
    "        self.first = self.model.index2word[random.randint(0,self.size)]\n",
    "        self.last = self.model.index2word[random.randint(0,self.size)]\n",
    "        self.bonus_words = self.model.most_similar(self.last, topn = 100)[20:60]\n",
    "        \n",
    "        self.display_word, _ ,_ = self.w2v_query(self.first)\n",
    "        \n",
    "        if self.last in self.display_word:\n",
    "            clear_output()\n",
    "            print(\"Done in %d Steps\" %(len(self.path)))\n",
    "            return None, None, None\n",
    "        \n",
    "        return self.display_word, self.first, self.last\n",
    "    \n",
    "    def w2v_query(self, word):\n",
    "        \n",
    "        self.path.append(word)\n",
    "        self.display_word = self.model.most_similar(word, topn = 50)\n",
    "        if len(self.path)%5 == 0:\n",
    "            self.display_word = [self.bonus_words[random.randint(0,39)]] + self.display_word\n",
    "        \n",
    "        self.display_word = [i[0] for i in self.display_word if i[0] not in self.path][:10]\n",
    "                \n",
    "        if self.last in self.display_word:\n",
    "            clear_output()\n",
    "            print(print(\"Done in %d Steps\" %(len(self.path))))\n",
    "            return None, None, None\n",
    "        \n",
    "        return self.display_word, self.first, self.last             "
   ]
  },
  {
   "cell_type": "code",
   "execution_count": 2,
   "metadata": {},
   "outputs": [],
   "source": [
    "def create_game(w_list, first, last):\n",
    "    \n",
    "    if w_list == None:\n",
    "        return\n",
    "    \n",
    "    print('First:', first)\n",
    "    print('Last:', last)\n",
    "    \n",
    "    button1 = widgets.Button(description=w_list[0])\n",
    "    display(button1)\n",
    "    button2 = widgets.Button(description=w_list[1])\n",
    "    display(button2)\n",
    "    button3 = widgets.Button(description=w_list[2])\n",
    "    display(button3)\n",
    "    button4 = widgets.Button(description=w_list[3])\n",
    "    display(button4)\n",
    "    \n",
    "    def on_button_clicked(b):\n",
    "        w_list, first, last = temp.w2v_query(b.description)\n",
    "        if w_list == None:\n",
    "            return\n",
    "        \n",
    "        clear_output()\n",
    "        create_game(w_list, first, last)\n",
    "    \n",
    "    button1.on_click(on_button_clicked)\n",
    "    button2.on_click(on_button_clicked)\n",
    "    button3.on_click(on_button_clicked)\n",
    "    button4.on_click(on_button_clicked)\n"
   ]
  },
  {
   "cell_type": "code",
   "execution_count": 7,
   "metadata": {},
   "outputs": [
    {
     "name": "stdout",
     "output_type": "stream",
     "text": [
      "Done in 21 Steps\n",
      "None\n"
     ]
    }
   ],
   "source": [
    "temp = game('final_v1.bin.gz')\n",
    "w_list, first, last = temp.start_game()\n",
    "create_game(w_list, first, last)"
   ]
  },
  {
   "cell_type": "code",
   "execution_count": 164,
   "metadata": {},
   "outputs": [],
   "source": []
  },
  {
   "cell_type": "code",
   "execution_count": 8,
   "metadata": {},
   "outputs": [
    {
     "data": {
      "text/plain": [
       "[('hutch', 0.3853703737258911),\n",
       " ('kennel', 0.3801444172859192),\n",
       " ('closet', 0.37405773997306824),\n",
       " ('cat', 0.3727211654186249),\n",
       " ('purgatory', 0.37094515562057495),\n",
       " ('crate', 0.36483439803123474),\n",
       " ('sulk', 0.36379826068878174),\n",
       " ('bulldog', 0.36377090215682983),\n",
       " ('bunk', 0.3625405430793762),\n",
       " ('cupboard', 0.3591567873954773),\n",
       " ('hoosegow', 0.3590683043003082),\n",
       " ('dog', 0.35831761360168457),\n",
       " ('snit', 0.354946494102478),\n",
       " ('housebroken', 0.3523012101650238),\n",
       " ('playpen', 0.3522569239139557),\n",
       " ('cage', 0.3519965410232544),\n",
       " ('slammer', 0.3517356514930725),\n",
       " ('pooch', 0.3487447500228882),\n",
       " ('cockatiel', 0.3451378345489502),\n",
       " ('leash', 0.3419286608695984),\n",
       " ('pup', 0.3394794166088104),\n",
       " ('rut', 0.3377031087875366),\n",
       " ('puppy', 0.33413445949554443),\n",
       " ('tomcat', 0.33353784680366516),\n",
       " ('mutt', 0.33228522539138794),\n",
       " ('attic', 0.3311293125152588),\n",
       " ('hovel', 0.33007097244262695),\n",
       " ('coop', 0.3299449682235718),\n",
       " ('carport', 0.32909494638442993),\n",
       " ('dalmatian', 0.32856887578964233)]"
      ]
     },
     "execution_count": 8,
     "metadata": {},
     "output_type": "execute_result"
    }
   ],
   "source": [
    "# filename = 'final_v1.bin.gz'\n",
    "# model = KeyedVectors.load_word2vec_format(filename, unicode_errors = 'replace', binary = 'True')\n",
    "# model.most_similar('doghouse', topn = 30)"
   ]
  },
  {
   "cell_type": "code",
   "execution_count": null,
   "metadata": {},
   "outputs": [],
   "source": []
  }
 ],
 "metadata": {
  "kernelspec": {
   "display_name": "Python 3",
   "language": "python",
   "name": "python3"
  },
  "language_info": {
   "codemirror_mode": {
    "name": "ipython",
    "version": 3
   },
   "file_extension": ".py",
   "mimetype": "text/x-python",
   "name": "python",
   "nbconvert_exporter": "python",
   "pygments_lexer": "ipython3",
   "version": "3.6.4"
  }
 },
 "nbformat": 4,
 "nbformat_minor": 2
}
