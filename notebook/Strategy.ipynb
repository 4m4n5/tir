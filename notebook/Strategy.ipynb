{
 "cells": [
  {
   "cell_type": "code",
   "execution_count": 1,
   "metadata": {},
   "outputs": [
    {
     "name": "stderr",
     "output_type": "stream",
     "text": [
      "C:\\Users\\ys16219\\AppData\\Local\\Continuum\\anaconda3\\lib\\site-packages\\gensim\\utils.py:862: UserWarning: detected Windows; aliasing chunkize to chunkize_serial\n",
      "  warnings.warn(\"detected Windows; aliasing chunkize to chunkize_serial\")\n"
     ]
    }
   ],
   "source": [
    "import ipywidgets as widgets\n",
    "from IPython.display import display\n",
    "from IPython.display import clear_output\n",
    "from nltk.stem.snowball import SnowballStemmer\n",
    "from gensim.models import KeyedVectors\n",
    "from nltk.stem import WordNetLemmatizer\n",
    "\n",
    "stemmer = SnowballStemmer(\"english\")\n",
    "wordnet_lemmatizer = WordNetLemmatizer()\n"
   ]
  },
  {
   "cell_type": "code",
   "execution_count": 17,
   "metadata": {},
   "outputs": [],
   "source": [
    "#filename = 'C:/Users/ys16219/Downloads/GoogleNews-vectors-negative300.bin'\n",
    "filename = 'slim_model_v8.bin.gz'\n",
    "\n",
    "model = KeyedVectors.load_word2vec_format(filename, unicode_errors = 'replace', binary = 'True', limit = 20000)"
   ]
  },
  {
   "cell_type": "code",
   "execution_count": 18,
   "metadata": {},
   "outputs": [],
   "source": [
    "def f7(seq):\n",
    "    seen = set()\n",
    "    seen_add = seen.add\n",
    "    return [x for x in seq if not (wordnet_lemmatizer.lemmatize(x.lower()) in seen or seen_add(wordnet_lemmatizer.lemmatize(x.lower())))]\n",
    "\n",
    "def word_match(word, model, pre_used, word_raw):\n",
    "    w = [i[0] for i in model.most_similar(word,topn=30) if \"_\" not in i[0] and stemmer.stem(i[0]) not in word_raw]\n",
    "    #w = set(w)-set(pre_used)\n",
    "    w = [i for i in w if (i.lower() not in pre_used and wordnet_lemmatizer.lemmatize(i) not in pre_used)]\n",
    "    w = f7(w)\n",
    "    return list(w)[:4]\n",
    "\n",
    "def print_next(word, pre_used, word_raw, model):\n",
    "    word_raw.append(stemmer.stem(word))\n",
    "    pre_used.append(word)\n",
    "    return(word_match(word, model, pre_used, word_raw))\n",
    "\n",
    "def create_game(w_list, end_word, count):\n",
    "    \n",
    "    count = count + 1\n",
    "    \n",
    "    for i in w_list[:4]:\n",
    "        #print(wordnet_lemmatizer.lemmatize(i))\n",
    "        #w_list.append(wordnet_lemmatizer.lemmatize(i))\n",
    "        w_list.append(stemmer.stem(i))\n",
    "    \n",
    "    if end_word in w_list:\n",
    "        print(\"Done in %d Steps\" %(count))\n",
    "        return\n",
    "    \n",
    "    button1 = widgets.Button(description=w_list[0])\n",
    "    display(button1)\n",
    "    button2 = widgets.Button(description=w_list[1])\n",
    "    display(button2)\n",
    "    button3 = widgets.Button(description=w_list[2])\n",
    "    display(button3)\n",
    "    button4 = widgets.Button(description=w_list[3])\n",
    "    display(button4)\n",
    "    \n",
    "    def on_button_clicked(b):\n",
    "        w_list = print_next(b.description, pre_used,word_raw ,model)\n",
    "        clear_output()\n",
    "        create_game(w_list, end_word, count)\n",
    "    \n",
    "    button1.on_click(on_button_clicked)\n",
    "    button2.on_click(on_button_clicked)\n",
    "    button3.on_click(on_button_clicked)\n",
    "    button4.on_click(on_button_clicked)\n"
   ]
  },
  {
   "cell_type": "code",
   "execution_count": 21,
   "metadata": {},
   "outputs": [
    {
     "data": {
      "application/vnd.jupyter.widget-view+json": {
       "model_id": "b261a79a1e83400cb61031eef384f769",
       "version_major": 2,
       "version_minor": 0
      },
      "text/html": [
       "<p>Failed to display Jupyter Widget of type <code>Button</code>.</p>\n",
       "<p>\n",
       "  If you're reading this message in the Jupyter Notebook or JupyterLab Notebook, it may mean\n",
       "  that the widgets JavaScript is still loading. If this message persists, it\n",
       "  likely means that the widgets JavaScript library is either not installed or\n",
       "  not enabled. See the <a href=\"https://ipywidgets.readthedocs.io/en/stable/user_install.html\">Jupyter\n",
       "  Widgets Documentation</a> for setup instructions.\n",
       "</p>\n",
       "<p>\n",
       "  If you're reading this message in another frontend (for example, a static\n",
       "  rendering on GitHub or <a href=\"https://nbviewer.jupyter.org/\">NBViewer</a>),\n",
       "  it may mean that your frontend doesn't currently support widgets.\n",
       "</p>\n"
      ],
      "text/plain": [
       "Button(description='bimetal', style=ButtonStyle())"
      ]
     },
     "metadata": {},
     "output_type": "display_data"
    },
    {
     "data": {
      "application/vnd.jupyter.widget-view+json": {
       "model_id": "cb4b343ff39041fdab92c2b8cfacd16c",
       "version_major": 2,
       "version_minor": 0
      },
      "text/html": [
       "<p>Failed to display Jupyter Widget of type <code>Button</code>.</p>\n",
       "<p>\n",
       "  If you're reading this message in the Jupyter Notebook or JupyterLab Notebook, it may mean\n",
       "  that the widgets JavaScript is still loading. If this message persists, it\n",
       "  likely means that the widgets JavaScript library is either not installed or\n",
       "  not enabled. See the <a href=\"https://ipywidgets.readthedocs.io/en/stable/user_install.html\">Jupyter\n",
       "  Widgets Documentation</a> for setup instructions.\n",
       "</p>\n",
       "<p>\n",
       "  If you're reading this message in another frontend (for example, a static\n",
       "  rendering on GitHub or <a href=\"https://nbviewer.jupyter.org/\">NBViewer</a>),\n",
       "  it may mean that your frontend doesn't currently support widgets.\n",
       "</p>\n"
      ],
      "text/plain": [
       "Button(description='superalloy', style=ButtonStyle())"
      ]
     },
     "metadata": {},
     "output_type": "display_data"
    },
    {
     "data": {
      "application/vnd.jupyter.widget-view+json": {
       "model_id": "299a1e400ec143cba11e9e2bdfb824e2",
       "version_major": 2,
       "version_minor": 0
      },
      "text/html": [
       "<p>Failed to display Jupyter Widget of type <code>Button</code>.</p>\n",
       "<p>\n",
       "  If you're reading this message in the Jupyter Notebook or JupyterLab Notebook, it may mean\n",
       "  that the widgets JavaScript is still loading. If this message persists, it\n",
       "  likely means that the widgets JavaScript library is either not installed or\n",
       "  not enabled. See the <a href=\"https://ipywidgets.readthedocs.io/en/stable/user_install.html\">Jupyter\n",
       "  Widgets Documentation</a> for setup instructions.\n",
       "</p>\n",
       "<p>\n",
       "  If you're reading this message in another frontend (for example, a static\n",
       "  rendering on GitHub or <a href=\"https://nbviewer.jupyter.org/\">NBViewer</a>),\n",
       "  it may mean that your frontend doesn't currently support widgets.\n",
       "</p>\n"
      ],
      "text/plain": [
       "Button(description='borosilicate', style=ButtonStyle())"
      ]
     },
     "metadata": {},
     "output_type": "display_data"
    },
    {
     "data": {
      "application/vnd.jupyter.widget-view+json": {
       "model_id": "615bc9693f2641d8b30e0d5b42919826",
       "version_major": 2,
       "version_minor": 0
      },
      "text/html": [
       "<p>Failed to display Jupyter Widget of type <code>Button</code>.</p>\n",
       "<p>\n",
       "  If you're reading this message in the Jupyter Notebook or JupyterLab Notebook, it may mean\n",
       "  that the widgets JavaScript is still loading. If this message persists, it\n",
       "  likely means that the widgets JavaScript library is either not installed or\n",
       "  not enabled. See the <a href=\"https://ipywidgets.readthedocs.io/en/stable/user_install.html\">Jupyter\n",
       "  Widgets Documentation</a> for setup instructions.\n",
       "</p>\n",
       "<p>\n",
       "  If you're reading this message in another frontend (for example, a static\n",
       "  rendering on GitHub or <a href=\"https://nbviewer.jupyter.org/\">NBViewer</a>),\n",
       "  it may mean that your frontend doesn't currently support widgets.\n",
       "</p>\n"
      ],
      "text/plain": [
       "Button(description='ferritic', style=ButtonStyle())"
      ]
     },
     "metadata": {},
     "output_type": "display_data"
    }
   ],
   "source": [
    "# Enter Start Word and End Word\n",
    "# Reach End Word in minimum steps\n",
    "\n",
    "start_word = 'car'\n",
    "end_word = 'dog'\n",
    "\n",
    "pre_used = []\n",
    "word_raw = []\n",
    "create_game(print_next(start_word,pre_used, word_raw ,model), end_word, 0)"
   ]
  },
  {
   "cell_type": "code",
   "execution_count": null,
   "metadata": {},
   "outputs": [],
   "source": []
  },
  {
   "cell_type": "code",
   "execution_count": 23,
   "metadata": {},
   "outputs": [
    {
     "data": {
      "text/plain": [
       "[('principally', 0.8755374550819397),\n",
       " ('mainly', 0.8366573452949524),\n",
       " ('chiefly', 0.694475531578064),\n",
       " ('mostly', 0.6794547438621521),\n",
       " ('predominately', 0.6526769399642944),\n",
       " ('largely', 0.6346989870071411),\n",
       " ('predominantly', 0.6241977214813232),\n",
       " ('solely', 0.6121655702590942),\n",
       " ('partly', 0.5497547388076782),\n",
       " ('exclusively', 0.515363872051239)]"
      ]
     },
     "execution_count": 23,
     "metadata": {},
     "output_type": "execute_result"
    }
   ],
   "source": [
    "model.most_similar('primarily')"
   ]
  },
  {
   "cell_type": "code",
   "execution_count": null,
   "metadata": {},
   "outputs": [],
   "source": []
  }
 ],
 "metadata": {
  "kernelspec": {
   "display_name": "Python 3",
   "language": "python",
   "name": "python3"
  },
  "language_info": {
   "codemirror_mode": {
    "name": "ipython",
    "version": 3
   },
   "file_extension": ".py",
   "mimetype": "text/x-python",
   "name": "python",
   "nbconvert_exporter": "python",
   "pygments_lexer": "ipython3",
   "version": "3.6.4"
  }
 },
 "nbformat": 4,
 "nbformat_minor": 2
}
